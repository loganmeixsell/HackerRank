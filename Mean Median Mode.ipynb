{
 "cells": [
  {
   "cell_type": "code",
   "execution_count": 168,
   "metadata": {},
   "outputs": [],
   "source": [
    "listsu = [64630, 11735, 14216, 99233, 14470, 4978, 73429, 38120, 51135, 67060, 67060, 4978]\n",
    "listsu1 = [64630, 11735, 14216, 99233, 14470, 4978, 73429, 38120, 51135]\n",
    "listsu = (sorted(listsu))"
   ]
  },
  {
   "cell_type": "code",
   "execution_count": 141,
   "metadata": {},
   "outputs": [
    {
     "name": "stdout",
     "output_type": "stream",
     "text": [
      "{4978: 2, 11735: 1, 14216: 1, 14470: 1, 38120: 1, 51135: 1, 64630: 1, 67060: 2, 73429: 1, 99233: 1}\n"
     ]
    }
   ],
   "source": [
    "d = {}\n",
    "for x in listsu:\n",
    "    d.setdefault(x,0)\n",
    "    d[x] += 1\n",
    "print(d)"
   ]
  },
  {
   "cell_type": "code",
   "execution_count": 135,
   "metadata": {},
   "outputs": [],
   "source": [
    "max_key = max(d, key=d.get)\n"
   ]
  },
  {
   "cell_type": "code",
   "execution_count": 136,
   "metadata": {},
   "outputs": [],
   "source": [
    "def maxval(d):\n",
    "    loopval = 0\n",
    "    for key,value in d.items():\n",
    "#         print (value)\n",
    "        if value > loopval:\n",
    "            loopval = value\n",
    "    return loopval"
   ]
  },
  {
   "cell_type": "code",
   "execution_count": 137,
   "metadata": {},
   "outputs": [
    {
     "data": {
      "text/plain": [
       "2"
      ]
     },
     "execution_count": 137,
     "metadata": {},
     "output_type": "execute_result"
    }
   ],
   "source": [
    "# maxval(d)\n",
    "testval = maxval(d)\n",
    "testval"
   ]
  },
  {
   "cell_type": "code",
   "execution_count": 138,
   "metadata": {},
   "outputs": [],
   "source": [
    "def mode(d,testval):\n",
    "    finallist = []\n",
    "#     print(testval)\n",
    "    if testval == 1:\n",
    "        return (list(d.keys())[0]) \n",
    "    else:\n",
    "        for key,value in d.items():\n",
    "            if value == testval:\n",
    "                finallist.append(key)\n",
    "        return finallist"
   ]
  },
  {
   "cell_type": "code",
   "execution_count": 139,
   "metadata": {},
   "outputs": [
    {
     "data": {
      "text/plain": [
       "[4978, 67060]"
      ]
     },
     "execution_count": 139,
     "metadata": {},
     "output_type": "execute_result"
    }
   ],
   "source": [
    "val = mode(d,testval)\n",
    "val"
   ]
  },
  {
   "cell_type": "code",
   "execution_count": 127,
   "metadata": {},
   "outputs": [
    {
     "data": {
      "text/plain": [
       "4978"
      ]
     },
     "execution_count": 127,
     "metadata": {},
     "output_type": "execute_result"
    }
   ],
   "source": [
    "list(d.keys())[0]"
   ]
  },
  {
   "cell_type": "code",
   "execution_count": 191,
   "metadata": {},
   "outputs": [
    {
     "name": "stdout",
     "output_type": "stream",
     "text": [
      "17.5\n"
     ]
    }
   ],
   "source": [
    "# This is the median\n",
    "listsu = [1,5,9,11,15,20,38,50,80,100]\n",
    "numlength = len(listsu)\n",
    "# print(numlength % 2)\n",
    "if numlength % 2 == 0:\n",
    "#     print(listsu[4])\n",
    "    print((listsu[(int(9/2))] + listsu[(int(9/2) + 1)]) / 2)\n",
    "else:\n",
    "    print(listsu[numlength/2])"
   ]
  },
  {
   "cell_type": "code",
   "execution_count": 188,
   "metadata": {},
   "outputs": [
    {
     "data": {
      "text/plain": [
       "52590.0"
      ]
     },
     "execution_count": 188,
     "metadata": {},
     "output_type": "execute_result"
    }
   ],
   "source": [
    "(listsu[(int(9/2))] + listsu[(int(9/2) + 1)]) / 2\n",
    "# ((int(9/5)) + (int(9/5) + 1)) /2"
   ]
  },
  {
   "cell_type": "code",
   "execution_count": 173,
   "metadata": {},
   "outputs": [],
   "source": [
    "def modething(listsu):\n",
    "    listsu = (sorted(listsu))\n",
    "    d = {}\n",
    "    for x in listsu:\n",
    "        d.setdefault(x,0)\n",
    "        d[x] += 1\n",
    "    \n",
    "    loopval = 0\n",
    "    for key,value in d.items():\n",
    "        if value > loopval:\n",
    "            loopval = value\n",
    "            \n",
    "    finallist = []\n",
    "    if loopval == 1:\n",
    "        return (list(d.keys())[0]) \n",
    "    else:\n",
    "        for key,value in d.items():\n",
    "            if value == loopval:\n",
    "                finallist.append(key)\n",
    "        return finallist"
   ]
  },
  {
   "cell_type": "code",
   "execution_count": 174,
   "metadata": {},
   "outputs": [],
   "source": [
    "final = modething(listsu1)\n"
   ]
  },
  {
   "cell_type": "code",
   "execution_count": 175,
   "metadata": {},
   "outputs": [
    {
     "data": {
      "text/plain": [
       "4978"
      ]
     },
     "execution_count": 175,
     "metadata": {},
     "output_type": "execute_result"
    }
   ],
   "source": [
    "final"
   ]
  },
  {
   "cell_type": "code",
   "execution_count": 204,
   "metadata": {},
   "outputs": [
    {
     "name": "stdout",
     "output_type": "stream",
     "text": [
      "41327.3\n",
      "38121\n",
      "4978\n"
     ]
    }
   ],
   "source": [
    "numlist = [64630, 11735, 14216, 99233, 14470, 4978, 73429, 38120, 51135]\n",
    "numlist = (sorted(numlist))\n",
    "# print(numlist)\n",
    "# This is the mean\n",
    "sum = 0\n",
    "for y in numlist:\n",
    "    # print(y)\n",
    "    sum = sum + y\n",
    "meannum = sum/len(numlist)\n",
    "print(round(meannum,1))\n",
    "\n",
    "# This is the median\n",
    "numlength = len(numlist)\n",
    "# print(numlength)\n",
    "# print(numlength % 2)\n",
    "if numlength % 2 == 0:\n",
    "#     print(listsu[4])\n",
    "    mediannum = ((numlist[int(9/2)] + numlist[int(9/2)+ 1]) / 2)\n",
    "    # print((numlist[(int(9/2))] + numlist[(int(9/2) + 1)]) / 2)\n",
    "else:\n",
    "    # print(2)\n",
    "    mediannum = int(numlist[int(numlength/2)])+1\n",
    "print (round(mediannum,1))\n",
    "\n",
    "# def mode(listsu):\n",
    "# listsu = (sorted(listsu))\n",
    "d = {}\n",
    "for x in numlist:\n",
    "    d.setdefault(x,0)\n",
    "    d[x] += 1\n",
    "\n",
    "loopval = 0\n",
    "for key,value in d.items():\n",
    "    if value > loopval:\n",
    "        loopval = value\n",
    "        \n",
    "finallist = []\n",
    "if loopval == 1:\n",
    "    modenum = (list(d.keys())[0]) \n",
    "else:\n",
    "    for key,value in d.items():\n",
    "        if value == loopval:\n",
    "            finallist.append(key)\n",
    "    modenum = (finallist)\n",
    "print(round(modenum,1))"
   ]
  },
  {
   "cell_type": "code",
   "execution_count": null,
   "metadata": {},
   "outputs": [],
   "source": [
    "1 2 3 4 5 6 7 8 9 10 11"
   ]
  }
 ],
 "metadata": {
  "kernelspec": {
   "display_name": "Python 3",
   "language": "python",
   "name": "python3"
  },
  "language_info": {
   "codemirror_mode": {
    "name": "ipython",
    "version": 3
   },
   "file_extension": ".py",
   "mimetype": "text/x-python",
   "name": "python",
   "nbconvert_exporter": "python",
   "pygments_lexer": "ipython3",
   "version": "3.6.10"
  }
 },
 "nbformat": 4,
 "nbformat_minor": 4
}
